{
 "cells": [
  {
   "cell_type": "markdown",
   "metadata": {},
   "source": [
    "# <span style=\"color:#c83349; font-family: Trebuchet MS; font-size: 50px; font-weight: bold;\">Heart Diseases</span>"
   ]
  },
  {
   "cell_type": "code",
   "execution_count": 1,
   "metadata": {
    "id": "aZ0jbQZWMX-S"
   },
   "outputs": [],
   "source": [
    "import pandas as pd\n",
    "import numpy as np\n",
    "import matplotlib.pyplot as plt\n",
    "import seaborn as sns\n",
    "\n",
    "from warnings import filterwarnings\n",
    "filterwarnings(\"ignore\")"
   ]
  },
  {
   "cell_type": "code",
   "execution_count": 4,
   "metadata": {
    "colab": {
     "base_uri": "https://localhost:8080/",
     "height": 483
    },
    "id": "wwI_96CqM1h5",
    "outputId": "4dc7ac61-6e6b-428e-f968-5194f957302f"
   },
   "outputs": [],
   "source": [
    "heart = pd.read_csv(r\"C:\\Users\\rahim\\Desktop\\DSA 25\\PYTHON\\PYTHON 9\\heart_disease_dataset.csv\",delimiter=';')\n",
    "df = heart.copy()"
   ]
  },
  {
   "cell_type": "markdown",
   "metadata": {},
   "source": [
    "# <span style=\"color:#c83349; font-family: Trebuchet MS; font-size: 30px; font-weight: bold;\">Data Preparation</span>"
   ]
  },
  {
   "cell_type": "code",
   "execution_count": 5,
   "metadata": {
    "colab": {
     "base_uri": "https://localhost:8080/"
    },
    "id": "HLK9nwkYNMQE",
    "outputId": "bc3c2796-7008-4339-a839-3f39e0c80857"
   },
   "outputs": [
    {
     "data": {
      "text/html": [
       "<div>\n",
       "<style scoped>\n",
       "    .dataframe tbody tr th:only-of-type {\n",
       "        vertical-align: middle;\n",
       "    }\n",
       "\n",
       "    .dataframe tbody tr th {\n",
       "        vertical-align: top;\n",
       "    }\n",
       "\n",
       "    .dataframe thead th {\n",
       "        text-align: right;\n",
       "    }\n",
       "</style>\n",
       "<table border=\"1\" class=\"dataframe\">\n",
       "  <thead>\n",
       "    <tr style=\"text-align: right;\">\n",
       "      <th></th>\n",
       "      <th>count</th>\n",
       "      <th>mean</th>\n",
       "      <th>std</th>\n",
       "      <th>min</th>\n",
       "      <th>25%</th>\n",
       "      <th>50%</th>\n",
       "      <th>75%</th>\n",
       "      <th>max</th>\n",
       "    </tr>\n",
       "  </thead>\n",
       "  <tbody>\n",
       "    <tr>\n",
       "      <th>age</th>\n",
       "      <td>303.0</td>\n",
       "      <td>54.366337</td>\n",
       "      <td>9.082101</td>\n",
       "      <td>29.0</td>\n",
       "      <td>47.5</td>\n",
       "      <td>55.0</td>\n",
       "      <td>61.0</td>\n",
       "      <td>77.0</td>\n",
       "    </tr>\n",
       "    <tr>\n",
       "      <th>sex</th>\n",
       "      <td>303.0</td>\n",
       "      <td>0.683168</td>\n",
       "      <td>0.466011</td>\n",
       "      <td>0.0</td>\n",
       "      <td>0.0</td>\n",
       "      <td>1.0</td>\n",
       "      <td>1.0</td>\n",
       "      <td>1.0</td>\n",
       "    </tr>\n",
       "    <tr>\n",
       "      <th>chest_pain_type</th>\n",
       "      <td>303.0</td>\n",
       "      <td>0.966997</td>\n",
       "      <td>1.032052</td>\n",
       "      <td>0.0</td>\n",
       "      <td>0.0</td>\n",
       "      <td>1.0</td>\n",
       "      <td>2.0</td>\n",
       "      <td>3.0</td>\n",
       "    </tr>\n",
       "    <tr>\n",
       "      <th>resting_blood_pressure</th>\n",
       "      <td>303.0</td>\n",
       "      <td>131.623762</td>\n",
       "      <td>17.538143</td>\n",
       "      <td>94.0</td>\n",
       "      <td>120.0</td>\n",
       "      <td>130.0</td>\n",
       "      <td>140.0</td>\n",
       "      <td>200.0</td>\n",
       "    </tr>\n",
       "    <tr>\n",
       "      <th>cholesterol</th>\n",
       "      <td>303.0</td>\n",
       "      <td>246.264026</td>\n",
       "      <td>51.830751</td>\n",
       "      <td>126.0</td>\n",
       "      <td>211.0</td>\n",
       "      <td>240.0</td>\n",
       "      <td>274.5</td>\n",
       "      <td>564.0</td>\n",
       "    </tr>\n",
       "    <tr>\n",
       "      <th>fasting_blood_sugar</th>\n",
       "      <td>303.0</td>\n",
       "      <td>0.148515</td>\n",
       "      <td>0.356198</td>\n",
       "      <td>0.0</td>\n",
       "      <td>0.0</td>\n",
       "      <td>0.0</td>\n",
       "      <td>0.0</td>\n",
       "      <td>1.0</td>\n",
       "    </tr>\n",
       "    <tr>\n",
       "      <th>rest_ecg</th>\n",
       "      <td>303.0</td>\n",
       "      <td>0.528053</td>\n",
       "      <td>0.525860</td>\n",
       "      <td>0.0</td>\n",
       "      <td>0.0</td>\n",
       "      <td>1.0</td>\n",
       "      <td>1.0</td>\n",
       "      <td>2.0</td>\n",
       "    </tr>\n",
       "    <tr>\n",
       "      <th>max_heart_rate_achieved</th>\n",
       "      <td>303.0</td>\n",
       "      <td>149.646865</td>\n",
       "      <td>22.905161</td>\n",
       "      <td>71.0</td>\n",
       "      <td>133.5</td>\n",
       "      <td>153.0</td>\n",
       "      <td>166.0</td>\n",
       "      <td>202.0</td>\n",
       "    </tr>\n",
       "    <tr>\n",
       "      <th>exercise_induced_angina</th>\n",
       "      <td>303.0</td>\n",
       "      <td>0.326733</td>\n",
       "      <td>0.469794</td>\n",
       "      <td>0.0</td>\n",
       "      <td>0.0</td>\n",
       "      <td>0.0</td>\n",
       "      <td>1.0</td>\n",
       "      <td>1.0</td>\n",
       "    </tr>\n",
       "    <tr>\n",
       "      <th>st_depression</th>\n",
       "      <td>303.0</td>\n",
       "      <td>1.039604</td>\n",
       "      <td>1.161075</td>\n",
       "      <td>0.0</td>\n",
       "      <td>0.0</td>\n",
       "      <td>0.8</td>\n",
       "      <td>1.6</td>\n",
       "      <td>6.2</td>\n",
       "    </tr>\n",
       "    <tr>\n",
       "      <th>st_slope</th>\n",
       "      <td>303.0</td>\n",
       "      <td>1.399340</td>\n",
       "      <td>0.616226</td>\n",
       "      <td>0.0</td>\n",
       "      <td>1.0</td>\n",
       "      <td>1.0</td>\n",
       "      <td>2.0</td>\n",
       "      <td>2.0</td>\n",
       "    </tr>\n",
       "    <tr>\n",
       "      <th>num_major_vessels</th>\n",
       "      <td>303.0</td>\n",
       "      <td>0.729373</td>\n",
       "      <td>1.022606</td>\n",
       "      <td>0.0</td>\n",
       "      <td>0.0</td>\n",
       "      <td>0.0</td>\n",
       "      <td>1.0</td>\n",
       "      <td>4.0</td>\n",
       "    </tr>\n",
       "    <tr>\n",
       "      <th>thalassemia</th>\n",
       "      <td>303.0</td>\n",
       "      <td>2.313531</td>\n",
       "      <td>0.612277</td>\n",
       "      <td>0.0</td>\n",
       "      <td>2.0</td>\n",
       "      <td>2.0</td>\n",
       "      <td>3.0</td>\n",
       "      <td>3.0</td>\n",
       "    </tr>\n",
       "    <tr>\n",
       "      <th>target</th>\n",
       "      <td>303.0</td>\n",
       "      <td>0.544554</td>\n",
       "      <td>0.498835</td>\n",
       "      <td>0.0</td>\n",
       "      <td>0.0</td>\n",
       "      <td>1.0</td>\n",
       "      <td>1.0</td>\n",
       "      <td>1.0</td>\n",
       "    </tr>\n",
       "  </tbody>\n",
       "</table>\n",
       "</div>"
      ],
      "text/plain": [
       "                         count        mean        std    min    25%    50%  \\\n",
       "age                      303.0   54.366337   9.082101   29.0   47.5   55.0   \n",
       "sex                      303.0    0.683168   0.466011    0.0    0.0    1.0   \n",
       "chest_pain_type          303.0    0.966997   1.032052    0.0    0.0    1.0   \n",
       "resting_blood_pressure   303.0  131.623762  17.538143   94.0  120.0  130.0   \n",
       "cholesterol              303.0  246.264026  51.830751  126.0  211.0  240.0   \n",
       "fasting_blood_sugar      303.0    0.148515   0.356198    0.0    0.0    0.0   \n",
       "rest_ecg                 303.0    0.528053   0.525860    0.0    0.0    1.0   \n",
       "max_heart_rate_achieved  303.0  149.646865  22.905161   71.0  133.5  153.0   \n",
       "exercise_induced_angina  303.0    0.326733   0.469794    0.0    0.0    0.0   \n",
       "st_depression            303.0    1.039604   1.161075    0.0    0.0    0.8   \n",
       "st_slope                 303.0    1.399340   0.616226    0.0    1.0    1.0   \n",
       "num_major_vessels        303.0    0.729373   1.022606    0.0    0.0    0.0   \n",
       "thalassemia              303.0    2.313531   0.612277    0.0    2.0    2.0   \n",
       "target                   303.0    0.544554   0.498835    0.0    0.0    1.0   \n",
       "\n",
       "                           75%    max  \n",
       "age                       61.0   77.0  \n",
       "sex                        1.0    1.0  \n",
       "chest_pain_type            2.0    3.0  \n",
       "resting_blood_pressure   140.0  200.0  \n",
       "cholesterol              274.5  564.0  \n",
       "fasting_blood_sugar        0.0    1.0  \n",
       "rest_ecg                   1.0    2.0  \n",
       "max_heart_rate_achieved  166.0  202.0  \n",
       "exercise_induced_angina    1.0    1.0  \n",
       "st_depression              1.6    6.2  \n",
       "st_slope                   2.0    2.0  \n",
       "num_major_vessels          1.0    4.0  \n",
       "thalassemia                3.0    3.0  \n",
       "target                     1.0    1.0  "
      ]
     },
     "execution_count": 5,
     "metadata": {},
     "output_type": "execute_result"
    }
   ],
   "source": [
    "df.describe().T"
   ]
  },
  {
   "cell_type": "code",
   "execution_count": 4,
   "metadata": {
    "colab": {
     "base_uri": "https://localhost:8080/",
     "height": 361
    },
    "id": "amR2Ucp1NUtA",
    "outputId": "12eecb8d-caf1-47b1-b6bf-0392e266788a"
   },
   "outputs": [
    {
     "name": "stdout",
     "output_type": "stream",
     "text": [
      "<class 'pandas.core.frame.DataFrame'>\n",
      "RangeIndex: 303 entries, 0 to 302\n",
      "Data columns (total 14 columns):\n",
      " #   Column                   Non-Null Count  Dtype  \n",
      "---  ------                   --------------  -----  \n",
      " 0   age                      303 non-null    int64  \n",
      " 1   sex                      303 non-null    int64  \n",
      " 2   chest_pain_type          303 non-null    int64  \n",
      " 3   resting_blood_pressure   303 non-null    int64  \n",
      " 4   cholesterol              303 non-null    int64  \n",
      " 5   fasting_blood_sugar      303 non-null    int64  \n",
      " 6   rest_ecg                 303 non-null    int64  \n",
      " 7   max_heart_rate_achieved  303 non-null    int64  \n",
      " 8   exercise_induced_angina  303 non-null    int64  \n",
      " 9   st_depression            303 non-null    float64\n",
      " 10  st_slope                 303 non-null    int64  \n",
      " 11  num_major_vessels        303 non-null    int64  \n",
      " 12  thalassemia              303 non-null    int64  \n",
      " 13  target                   303 non-null    int64  \n",
      "dtypes: float64(1), int64(13)\n",
      "memory usage: 33.3 KB\n"
     ]
    }
   ],
   "source": [
    "df.info()"
   ]
  },
  {
   "cell_type": "code",
   "execution_count": 6,
   "metadata": {},
   "outputs": [
    {
     "data": {
      "text/plain": [
       "(303, 14)"
      ]
     },
     "execution_count": 6,
     "metadata": {},
     "output_type": "execute_result"
    }
   ],
   "source": [
    "df.shape"
   ]
  },
  {
   "cell_type": "code",
   "execution_count": 7,
   "metadata": {
    "colab": {
     "base_uri": "https://localhost:8080/"
    },
    "id": "p1mSAb5fNWkl",
    "outputId": "fedcf55a-fdb9-4f71-c6b7-2bf32ea5832a"
   },
   "outputs": [
    {
     "data": {
      "text/plain": [
       "0"
      ]
     },
     "execution_count": 7,
     "metadata": {},
     "output_type": "execute_result"
    }
   ],
   "source": [
    "# No null values\n",
    "df.isnull().sum().sum()"
   ]
  },
  {
   "cell_type": "code",
   "execution_count": 8,
   "metadata": {
    "colab": {
     "base_uri": "https://localhost:8080/"
    },
    "id": "yQOc_gRGNZ14",
    "outputId": "00adcdde-48b8-4b06-f026-b1226e9e0969"
   },
   "outputs": [
    {
     "data": {
      "text/plain": [
       "1    165\n",
       "0    138\n",
       "Name: target, dtype: int64"
      ]
     },
     "execution_count": 8,
     "metadata": {},
     "output_type": "execute_result"
    }
   ],
   "source": [
    "# There is non imbalance problem\n",
    "df['target'].value_counts()"
   ]
  },
  {
   "cell_type": "code",
   "execution_count": 9,
   "metadata": {
    "colab": {
     "base_uri": "https://localhost:8080/"
    },
    "id": "5q25ZYKpNoqF",
    "outputId": "1260abd3-b60e-46ff-e58d-b71d1d4327ff"
   },
   "outputs": [
    {
     "data": {
      "text/plain": [
       "False"
      ]
     },
     "execution_count": 9,
     "metadata": {},
     "output_type": "execute_result"
    }
   ],
   "source": [
    "# Duplicate check\n",
    "len(df) == len(df.drop_duplicates())"
   ]
  },
  {
   "cell_type": "code",
   "execution_count": 10,
   "metadata": {
    "id": "oztKr1hCNwFJ"
   },
   "outputs": [],
   "source": [
    "# Dropping duplicates\n",
    "df = df.drop_duplicates()"
   ]
  },
  {
   "cell_type": "code",
   "execution_count": 11,
   "metadata": {
    "colab": {
     "base_uri": "https://localhost:8080/",
     "height": 405
    },
    "id": "YfynX-E-NzBq",
    "outputId": "453cb757-7003-49c9-d37b-6c46b81efa5a"
   },
   "outputs": [
    {
     "data": {
      "image/png": "[encoded data removed]",
      "text/plain": [
       "<Figure size 640x480 with 2 Axes>"
      ]
     },
     "metadata": {},
     "output_type": "display_data"
    }
   ],
   "source": [
    "# No multicolinearity observed\n",
    "sns.heatmap(df.corr())\n",
    "plt.show()"
   ]
  },
  {
   "cell_type": "code",
   "execution_count": 12,
   "metadata": {
    "colab": {
     "base_uri": "https://localhost:8080/",
     "height": 441
    },
    "id": "1dYdGx81N1t7",
    "outputId": "cef3d0c0-60f4-4c0b-89ab-e6908020e640"
   },
   "outputs": [
    {
     "data": {
      "image/png": "[encoded data removed]",
      "text/plain": [
       "<Figure size 600x600 with 5 Axes>"
      ]
     },
     "metadata": {},
     "output_type": "display_data"
    }
   ],
   "source": [
    "# Outliers detection\n",
    "fig, axes = plt.subplots(nrows=5,figsize=(6,6))\n",
    "sns.boxplot(ax=axes[0],x=df['age'],data=df)\n",
    "sns.boxplot(ax=axes[1],x=df['resting_blood_pressure'],data=df)\n",
    "sns.boxplot(ax=axes[2],x=df['cholesterol'],data=df)\n",
    "sns.boxplot(ax=axes[3],x=df['max_heart_rate_achieved'],data=df)\n",
    "sns.boxplot(ax=axes[4],x=df['st_depression'],data=df)\n",
    "plt.tight_layout()"
   ]
  },
  {
   "cell_type": "code",
   "execution_count": 13,
   "metadata": {
    "id": "zX3dbSLdPCoO"
   },
   "outputs": [],
   "source": [
    "# Outliers treatment \n",
    "columns = ['age','resting_blood_pressure','cholesterol','max_heart_rate_achieved','st_depression']\n",
    "\n",
    "lower_list = []\n",
    "upper_list = []\n",
    "\n",
    "for col in columns:\n",
    "    q1 = df[col].quantile(.25)\n",
    "    q3 = df[col].quantile(.75)\n",
    "    iqr = q3 - q1\n",
    "    lower = q1 - iqr*1.5\n",
    "    upper = q3 + iqr*1.5\n",
    "    lower_list.append(lower)\n",
    "    upper_list.append(upper)\n",
    "\n",
    "for lower,upper,col in zip(lower_list,upper_list,columns):\n",
    "    df = df[(df[col]>lower) & (df[col]<upper)]"
   ]
  },
  {
   "cell_type": "code",
   "execution_count": 14,
   "metadata": {
    "colab": {
     "base_uri": "https://localhost:8080/",
     "height": 441
    },
    "id": "ytM0pC9mPEuC",
    "outputId": "a9aeb8d8-e87f-4a8c-b87a-50eb9a26fb94"
   },
   "outputs": [
    {
     "data": {
      "image/png": "[encoded data removed]",
      "text/plain": [
       "<Figure size 600x600 with 5 Axes>"
      ]
     },
     "metadata": {},
     "output_type": "display_data"
    }
   ],
   "source": [
    "# Outliers have been removed\n",
    "fig, axes = plt.subplots(nrows=5,figsize=(6,6))\n",
    "sns.boxplot(ax=axes[0],x=df['age'],data=df)\n",
    "sns.boxplot(ax=axes[1],x=df['resting_blood_pressure'],data=df)\n",
    "sns.boxplot(ax=axes[2],x=df['cholesterol'],data=df)\n",
    "sns.boxplot(ax=axes[3],x=df['max_heart_rate_achieved'],data=df)\n",
    "sns.boxplot(ax=axes[4],x=df['st_depression'],data=df)\n",
    "plt.tight_layout()"
   ]
  },
  {
   "cell_type": "code",
   "execution_count": 15,
   "metadata": {},
   "outputs": [
    {
     "data": {
      "text/plain": [
       "(278, 14)"
      ]
     },
     "execution_count": 15,
     "metadata": {},
     "output_type": "execute_result"
    }
   ],
   "source": [
    "df.shape"
   ]
  },
  {
   "cell_type": "code",
   "execution_count": 16,
   "metadata": {
    "id": "Ncv3oRapPu3v"
   },
   "outputs": [],
   "source": [
    "from sklearn.model_selection import train_test_split\n",
    "from sklearn.preprocessing import MinMaxScaler"
   ]
  },
  {
   "cell_type": "code",
   "execution_count": 17,
   "metadata": {
    "id": "tbuDbfECQDMB"
   },
   "outputs": [],
   "source": [
    "# Splitting into features and targets\n",
    "X=df.iloc[:,:-1]\n",
    "y =df.iloc[:,-1]"
   ]
  },
  {
   "cell_type": "code",
   "execution_count": 18,
   "metadata": {
    "id": "cJo45hQYQRem"
   },
   "outputs": [],
   "source": [
    "# Train test split\n",
    "X_train, X_test, y_train, y_test  = train_test_split(X,y,\n",
    "                                                     test_size=0.2,\n",
    "                                                     random_state=101,\n",
    "                                                     shuffle=True\n",
    "                                                    )"
   ]
  },
  {
   "cell_type": "code",
   "execution_count": 19,
   "metadata": {
    "id": "hTptva_jQRzs"
   },
   "outputs": [],
   "source": [
    "# Scaling the data\n",
    "scaler = MinMaxScaler()\n",
    "X_train = scaler.fit_transform(X_train)\n",
    "X_test = scaler.transform(X_test)"
   ]
  },
  {
   "cell_type": "code",
   "execution_count": 20,
   "metadata": {
    "id": "xTVcBgvoIm3R"
   },
   "outputs": [],
   "source": [
    "# Converting y_train and y_test to numpy arrays\n",
    "y_train = np.array(y_train).reshape(len(y_train),1)\n",
    "y_test = np.array(y_test).reshape(len(y_test),1)"
   ]
  },
  {
   "cell_type": "markdown",
   "metadata": {},
   "source": [
    "# <span style=\"color:#c83349; font-family: Trebuchet MS; font-size: 50px; font-weight: bold;\">Modeling</span>"
   ]
  },
  {
   "cell_type": "markdown",
   "metadata": {
    "id": "IsJQX_ZLQ3QJ"
   },
   "source": [
    "# <span style=\"color:#c83349; font-family: Trebuchet MS; font-size: 45px; font-weight: bold;\">Neural Network from Scratch</span>"
   ]
  },
  {
   "cell_type": "code",
   "execution_count": 45,
   "metadata": {},
   "outputs": [],
   "source": [
    "# Sigmoid Activation Function\n",
    "def sigmoid(x):\n",
    "    return 1.0 / (1 + np.exp(-x))\n",
    "\n",
    "# Derivative of Sigmoid Activation Function\n",
    "def sigmoid_derivative(x):\n",
    "    return x * (1.0 - x)\n",
    "\n",
    "# Rectified Linear Unit (ReLU) Activation Function\n",
    "def relu(x):\n",
    "    return np.maximum(x, 0)\n",
    "\n",
    "# Derivative of ReLU Activation Function\n",
    "def relu_derivative(x):\n",
    "    return np.where(x > 0, 1, 0)\n",
    "\n",
    "# Cross-Entropy Loss Function\n",
    "# Used for classification problems to measure the difference between predicted and true labels\n",
    "def cross_entropy_loss(y_true, y_pred):\n",
    "    # Calculate the cross-entropy loss over the dataset and average it\n",
    "    return np.sum(-(y_true * np.log(y_pred) + (1 - y_true) * np.log(1 - y_pred))) / len(y_true)\n",
    "\n",
    "# Derivative of Cross-Entropy Loss Function\n",
    "# Used in backpropagation to update the model's weights during training\n",
    "def cross_entropy_derivative(y_true, y_pred):\n",
    "    return (y_pred - y_true) / (y_pred * (1 - y_pred))\n",
    "\n",
    "\n",
    "class NeuralNetwork:\n",
    "    def __init__(self, x, y):\n",
    "        # Initialize the neural network with input data x and corresponding labels y\n",
    "        \n",
    "        # Defining the input data\n",
    "        self.IN = x\n",
    "        \n",
    "        # Initializing weights and biases for the neural network layers\n",
    "        \n",
    "        # Defining the weights applied at the first hidden layer.\n",
    "        # This matrix has size (number of input features, number of neurons in the first hidden layer).\n",
    "        self.W1 = np.random.rand(self.IN.shape[1], 6)\n",
    "        \n",
    "        # Defining the weights applied at the second hidden layer.\n",
    "        # This matrix has shape (number of neurons in the first hidden layer, number of neurons in the second hidden layer).\n",
    "        self.W2 = np.random.rand(6, 4)\n",
    "        \n",
    "        # Defining the weights applied at the output layer.\n",
    "        # It has shape (number of neurons in the second hidden layer, number of output neurons).\n",
    "        self.W3 = np.random.rand(4, 1)\n",
    "        \n",
    "        # Defining the biases for each layer\n",
    "        \n",
    "        # Bias for the first hidden layer.\n",
    "        # Shape: (1, number of neurons in the first hidden layer).\n",
    "        self.b1 = np.random.rand(1, 6)\n",
    "        \n",
    "        # Bias for the second hidden layer.\n",
    "        # Shape: (1, number of neurons in the second hidden layer).\n",
    "        self.b2 = np.random.rand(1, 4)\n",
    "        \n",
    "        # Bias for the output layer.\n",
    "        # Shape: (1, number of output neurons).\n",
    "        self.b3 = np.random.rand(1, 1)\n",
    "        \n",
    "        # Store the ground truth labels\n",
    "        self.y = y\n",
    "        \n",
    "        # Set the learning rate for gradient descent\n",
    "        self.learning_rate = 0.01\n",
    "\n",
    "\n",
    "    def feed_forward(self):\n",
    "        \n",
    "        # Calculate the outputs of the first hidden layer using ReLU activation\n",
    "        # Apply the dot product of input and weights, then add the bias, and apply ReLU activation\n",
    "        self.HIDDEN_LAYER_1 = relu(np.dot(self.IN, self.W1) + self.b1)\n",
    "\n",
    "        # Calculate the outputs of the second hidden layer using Sigmoid activation\n",
    "        # Apply the dot product of first hidden layer outputs and weights, add bias, and apply Sigmoid activation\n",
    "        self.HIDDEN_LAYER_2 = sigmoid(np.dot(self.HIDDEN_LAYER_1, self.W2) + self.b2)\n",
    "\n",
    "        # Calculate the final output of the neural network using Sigmoid activation\n",
    "        # Apply the dot product of second hidden layer outputs and weights, add bias, and apply Sigmoid activation\n",
    "        self.output = sigmoid(np.dot(self.HIDDEN_LAYER_2, self.W3) + self.b3)\n",
    "\n",
    "\n",
    "    def back_propagate(self):\n",
    "        # Perform backpropagation to update weights and biases using gradient descent\n",
    "\n",
    "        # Calculate the derivatives of the loss function with respect to weights and biases\n",
    "\n",
    "        # Derivatives of output layer weights and biases\n",
    "        d_W3 = np.dot(self.HIDDEN_LAYER_2.T, (cross_entropy_derivative(self.y, self.output) * sigmoid_derivative(self.output)))\n",
    "        d_b3 = np.dot(np.ones(self.IN.shape[0]).reshape(1, self.IN.shape[0]), (cross_entropy_derivative(self.y, self.output) * sigmoid_derivative(self.output)))\n",
    "\n",
    "        # Derivatives of second hidden layer weights and biases\n",
    "        d_W2 = np.dot(self.HIDDEN_LAYER_1.T, (np.dot(cross_entropy_derivative(self.y, self.output) * sigmoid_derivative(self.output), self.W3.T) * sigmoid_derivative(self.HIDDEN_LAYER_2)))\n",
    "        d_b2 = np.dot(np.ones(self.IN.shape[0]).reshape(1, self.IN.shape[0]), (np.dot(cross_entropy_derivative(self.y, self.output) * sigmoid_derivative(self.output), self.W3.T) * sigmoid_derivative(self.HIDDEN_LAYER_2)))\n",
    "\n",
    "        # Derivatives of first hidden layer weights and biases\n",
    "        d_W1 = np.dot(self.IN.T, (np.dot((np.dot(cross_entropy_derivative(self.y, self.output) * sigmoid_derivative(self.output), self.W3.T) * sigmoid_derivative(self.HIDDEN_LAYER_2)), self.W2.T) * relu_derivative(np.dot(self.IN, self.W1) + self.b1)))\n",
    "        d_b1 = np.dot(np.ones(self.IN.shape[0]).reshape(1, self.IN.shape[0]), (np.dot((np.dot(cross_entropy_derivative(self.y, self.output) * sigmoid_derivative(self.output), self.W3.T) * sigmoid_derivative(self.HIDDEN_LAYER_2)), self.W2.T) * relu_derivative(np.dot(self.IN, self.W1) + self.b1)))\n",
    "\n",
    "        # Update the weights and biases using the calculated derivatives and the learning rate\n",
    "        self.W1 -= self.learning_rate * d_W1\n",
    "        self.W2 -= self.learning_rate * d_W2\n",
    "        self.W3 -= self.learning_rate * d_W3\n",
    "        self.b1 -= self.learning_rate * d_b1\n",
    "        self.b2 -= self.learning_rate * d_b2\n",
    "        self.b3 -= self.learning_rate * d_b3\n",
    "\n",
    "\n",
    "\n",
    "    def batch_splitter(self, features, labels, batch_size):\n",
    "        # Shuffle the data using random permutations\n",
    "        shuffled_indices = np.random.permutation(features.shape[0])\n",
    "        features = features[shuffled_indices]\n",
    "        labels = labels[shuffled_indices]\n",
    "\n",
    "        # Split the shuffled data into batches\n",
    "        batch = []\n",
    "        batches = []\n",
    "        batch_splits = []\n",
    "        num_of_batches = features.shape[0] // batch_size\n",
    "        num = 1\n",
    "\n",
    "        # Calculate the indices where batches should be split\n",
    "        for i in range(1, num_of_batches + 1):\n",
    "            batch_splits.append(i * batch_size)\n",
    "\n",
    "        # Iterate through the data and create batches\n",
    "        for f, l in zip(features, labels):\n",
    "            batch.append([f, l])\n",
    "            # If the current index is a batch split point or the last data point\n",
    "            if num in batch_splits or num == features.shape[0]:\n",
    "                x = []\n",
    "                y = []\n",
    "                # Extract features and labels from the batch\n",
    "                for i in batch:\n",
    "                    x.append(i[0])\n",
    "                    y.append(i[1])\n",
    "                x = np.array(x)\n",
    "                y = np.array(y)\n",
    "                batches.append([x, y])\n",
    "                batch = []  # Reset the batch for the next iteration\n",
    "            num += 1\n",
    "\n",
    "        return batches\n",
    "\n",
    "\n",
    "    def train(self, epochs, learning_rate, batch_size):\n",
    "        # Set the learning rate and store features and labels\n",
    "        self.learning_rate = learning_rate\n",
    "        self.features = self.IN\n",
    "        self.labels = self.y\n",
    "\n",
    "        # Iterate through epochs\n",
    "        for n, epoch in enumerate(range(epochs)):\n",
    "            # Split the data into batches\n",
    "            batches = self.batch_splitter(self.features, self.labels, batch_size)\n",
    "            losses = []\n",
    "\n",
    "            # Iterate through each batch\n",
    "            for batch in batches:\n",
    "                # Set current batch as input features and labels\n",
    "                self.IN = batch[0]\n",
    "                self.y = batch[1]\n",
    "\n",
    "                # Perform forward and backward propagation\n",
    "                self.feed_forward()\n",
    "                self.back_propagate()\n",
    "\n",
    "                # Calculate and store the loss for this batch\n",
    "                loss = cross_entropy_loss(self.y, self.output)\n",
    "                losses.append(loss)\n",
    "\n",
    "            # Calculate and print the average loss for this epoch\n",
    "            avg_loss = sum(losses) / len(batches)\n",
    "            print(f'Epoch {n+1}. Average batch cross entropy: {avg_loss}')\n",
    "\n",
    "\n",
    "    def predict(self, X_test):\n",
    "        # Set the input features for prediction\n",
    "        self.IN = X_test\n",
    "\n",
    "        # Perform forward propagation to get the predicted output\n",
    "        self.feed_forward()\n",
    "\n",
    "        # Return the predicted output\n",
    "        return self.output"
   ]
  },
  {
   "cell_type": "code",
   "execution_count": 22,
   "metadata": {
    "id": "OJwPKpUnT-KG"
   },
   "outputs": [],
   "source": [
    "model = NeuralNetwork(X_train,y_train)"
   ]
  },
  {
   "cell_type": "code",
   "execution_count": 23,
   "metadata": {
    "colab": {
     "base_uri": "https://localhost:8080/"
    },
    "id": "k0TbGEZ2nMu9",
    "outputId": "2f81ef04-9d97-4ebe-a8f8-a327195f8f64"
   },
   "outputs": [
    {
     "name": "stdout",
     "output_type": "stream",
     "text": [
      "Epoch 1. Average batch cross entropy: 0.680684299749073\n",
      "Epoch 2. Average batch cross entropy: 0.7933931068976202\n",
      "Epoch 3. Average batch cross entropy: 0.7406016887846893\n",
      "Epoch 4. Average batch cross entropy: 0.7831135840820392\n",
      "Epoch 5. Average batch cross entropy: 0.720837234885254\n",
      "Epoch 6. Average batch cross entropy: 0.9206315667457099\n",
      "Epoch 7. Average batch cross entropy: 0.7400696070053927\n",
      "Epoch 8. Average batch cross entropy: 0.7737865256974619\n",
      "Epoch 9. Average batch cross entropy: 0.7443347035134665\n",
      "Epoch 10. Average batch cross entropy: 0.7368940936976706\n",
      "Epoch 11. Average batch cross entropy: 0.7250624331449955\n",
      "Epoch 12. Average batch cross entropy: 0.8793451016155959\n",
      "Epoch 13. Average batch cross entropy: 0.7518988168590105\n",
      "Epoch 14. Average batch cross entropy: 0.8426759607518066\n",
      "Epoch 15. Average batch cross entropy: 0.7536868248010398\n",
      "Epoch 16. Average batch cross entropy: 0.7449441214642157\n",
      "Epoch 17. Average batch cross entropy: 0.7895821485343205\n",
      "Epoch 18. Average batch cross entropy: 0.7946908809296829\n",
      "Epoch 19. Average batch cross entropy: 0.7309826341959839\n",
      "Epoch 20. Average batch cross entropy: 0.7366560425587004\n",
      "Epoch 21. Average batch cross entropy: 0.6842265688491188\n",
      "Epoch 22. Average batch cross entropy: 0.7457978083656015\n",
      "Epoch 23. Average batch cross entropy: 0.8392125183921741\n",
      "Epoch 24. Average batch cross entropy: 0.7026503370393483\n",
      "Epoch 25. Average batch cross entropy: 0.718549419624887\n",
      "Epoch 26. Average batch cross entropy: 0.7230482834523565\n",
      "Epoch 27. Average batch cross entropy: 0.824135988976275\n",
      "Epoch 28. Average batch cross entropy: 0.7142037280405084\n",
      "Epoch 29. Average batch cross entropy: 0.6819108321584259\n",
      "Epoch 30. Average batch cross entropy: 0.7664113809292432\n",
      "Epoch 31. Average batch cross entropy: 0.6983562379052852\n",
      "Epoch 32. Average batch cross entropy: 0.815318666172659\n",
      "Epoch 33. Average batch cross entropy: 0.7351468933566478\n",
      "Epoch 34. Average batch cross entropy: 0.7688646454801139\n",
      "Epoch 35. Average batch cross entropy: 0.6703355762023007\n",
      "Epoch 36. Average batch cross entropy: 0.8177553206491904\n",
      "Epoch 37. Average batch cross entropy: 0.9136099234796701\n",
      "Epoch 38. Average batch cross entropy: 0.7008920059001097\n",
      "Epoch 39. Average batch cross entropy: 0.6875029301125558\n",
      "Epoch 40. Average batch cross entropy: 0.7523897742920564\n",
      "Epoch 41. Average batch cross entropy: 0.8751306228277734\n",
      "Epoch 42. Average batch cross entropy: 0.9433924982501894\n",
      "Epoch 43. Average batch cross entropy: 0.8299826188593536\n",
      "Epoch 44. Average batch cross entropy: 0.8219662888905589\n",
      "Epoch 45. Average batch cross entropy: 0.783794140981488\n",
      "Epoch 46. Average batch cross entropy: 0.7572510186922388\n",
      "Epoch 47. Average batch cross entropy: 0.7903080106905607\n",
      "Epoch 48. Average batch cross entropy: 0.7669104708124281\n",
      "Epoch 49. Average batch cross entropy: 0.8298101016461766\n",
      "Epoch 50. Average batch cross entropy: 0.7612543663079593\n",
      "Epoch 51. Average batch cross entropy: 0.7464730334560635\n",
      "Epoch 52. Average batch cross entropy: 0.7182526235801338\n",
      "Epoch 53. Average batch cross entropy: 0.7997786714857372\n",
      "Epoch 54. Average batch cross entropy: 0.7286704727331746\n",
      "Epoch 55. Average batch cross entropy: 0.909445434163714\n",
      "Epoch 56. Average batch cross entropy: 0.7606873166742957\n",
      "Epoch 57. Average batch cross entropy: 0.6921789494957195\n",
      "Epoch 58. Average batch cross entropy: 0.8362159258615617\n",
      "Epoch 59. Average batch cross entropy: 0.7111531998117465\n",
      "Epoch 60. Average batch cross entropy: 0.6952907719857956\n",
      "Epoch 61. Average batch cross entropy: 0.6856472381599568\n",
      "Epoch 62. Average batch cross entropy: 0.7472937945304581\n",
      "Epoch 63. Average batch cross entropy: 0.711425716454052\n",
      "Epoch 64. Average batch cross entropy: 0.7399080718753127\n",
      "Epoch 65. Average batch cross entropy: 0.7241288729169347\n",
      "Epoch 66. Average batch cross entropy: 0.7163222668500138\n",
      "Epoch 67. Average batch cross entropy: 0.6933948357937475\n",
      "Epoch 68. Average batch cross entropy: 0.7059053735720724\n",
      "Epoch 69. Average batch cross entropy: 0.739302293243583\n",
      "Epoch 70. Average batch cross entropy: 0.6770031847390128\n",
      "Epoch 71. Average batch cross entropy: 0.6984916618435941\n",
      "Epoch 72. Average batch cross entropy: 0.6761875768757835\n",
      "Epoch 73. Average batch cross entropy: 0.7292177347744235\n",
      "Epoch 74. Average batch cross entropy: 0.7293450507164899\n",
      "Epoch 75. Average batch cross entropy: 0.6370518901323036\n",
      "Epoch 76. Average batch cross entropy: 0.6297561874766812\n",
      "Epoch 77. Average batch cross entropy: 0.6070855308746568\n",
      "Epoch 78. Average batch cross entropy: 0.5500164129111708\n",
      "Epoch 79. Average batch cross entropy: 0.5046788597475781\n",
      "Epoch 80. Average batch cross entropy: 0.5619473847539184\n",
      "Epoch 81. Average batch cross entropy: 0.610960379576086\n",
      "Epoch 82. Average batch cross entropy: 0.5007687757722438\n",
      "Epoch 83. Average batch cross entropy: 0.4857466954587702\n",
      "Epoch 84. Average batch cross entropy: 0.4341459961416515\n",
      "Epoch 85. Average batch cross entropy: 0.47968297289812334\n",
      "Epoch 86. Average batch cross entropy: 0.4516596168645348\n",
      "Epoch 87. Average batch cross entropy: 0.47643802185827033\n",
      "Epoch 88. Average batch cross entropy: 0.43793511375727406\n",
      "Epoch 89. Average batch cross entropy: 0.39972617372346575\n",
      "Epoch 90. Average batch cross entropy: 0.46399345744517845\n",
      "Epoch 91. Average batch cross entropy: 0.46142373379928975\n",
      "Epoch 92. Average batch cross entropy: 0.40871805075534884\n",
      "Epoch 93. Average batch cross entropy: 0.4306832788573073\n",
      "Epoch 94. Average batch cross entropy: 0.3962702438494824\n",
      "Epoch 95. Average batch cross entropy: 0.44998257032245986\n",
      "Epoch 96. Average batch cross entropy: 0.40967425085074405\n",
      "Epoch 97. Average batch cross entropy: 0.3927336114802329\n",
      "Epoch 98. Average batch cross entropy: 0.42023327555616724\n",
      "Epoch 99. Average batch cross entropy: 0.38681569044973196\n",
      "Epoch 100. Average batch cross entropy: 0.4012765203092417\n"
     ]
    }
   ],
   "source": [
    "model.train(epochs=100,learning_rate=0.05,batch_size=32)"
   ]
  },
  {
   "cell_type": "code",
   "execution_count": 24,
   "metadata": {
    "id": "CKrbKzuynUuW"
   },
   "outputs": [],
   "source": [
    "y_pred = np.round(model.predict(X_test))"
   ]
  },
  {
   "cell_type": "code",
   "execution_count": 25,
   "metadata": {
    "id": "dq_3zztxsOg5"
   },
   "outputs": [],
   "source": [
    "from sklearn.metrics import accuracy_score"
   ]
  },
  {
   "cell_type": "code",
   "execution_count": 26,
   "metadata": {
    "colab": {
     "base_uri": "https://localhost:8080/"
    },
    "id": "_K_TamShsRbv",
    "outputId": "b7ce6bad-2704-4fde-9047-c80d2fc550ea"
   },
   "outputs": [
    {
     "data": {
      "text/plain": [
       "0.8928571428571429"
      ]
     },
     "execution_count": 26,
     "metadata": {},
     "output_type": "execute_result"
    }
   ],
   "source": [
    "accuracy_score(y_test,y_pred)"
   ]
  },
  {
   "cell_type": "code",
   "execution_count": 27,
   "metadata": {
    "id": "tmJ3g0bgs0h9"
   },
   "outputs": [],
   "source": [
    "from sklearn.metrics import confusion_matrix, classification_report"
   ]
  },
  {
   "cell_type": "code",
   "execution_count": 28,
   "metadata": {
    "colab": {
     "base_uri": "https://localhost:8080/"
    },
    "id": "6rtnStRPx9nE",
    "outputId": "994aa0d5-fc85-4c7d-ab21-a642d6f5aa8e"
   },
   "outputs": [
    {
     "name": "stdout",
     "output_type": "stream",
     "text": [
      "[[26  3]\n",
      " [ 3 24]]\n"
     ]
    }
   ],
   "source": [
    "print(confusion_matrix(y_test,y_pred))"
   ]
  },
  {
   "cell_type": "code",
   "execution_count": 29,
   "metadata": {
    "colab": {
     "base_uri": "https://localhost:8080/"
    },
    "id": "K2i8clrSyA9L",
    "outputId": "9b926e30-0268-4e67-c807-04fdc857b15c"
   },
   "outputs": [
    {
     "name": "stdout",
     "output_type": "stream",
     "text": [
      "              precision    recall  f1-score   support\n",
      "\n",
      "           0       0.90      0.90      0.90        29\n",
      "           1       0.89      0.89      0.89        27\n",
      "\n",
      "    accuracy                           0.89        56\n",
      "   macro avg       0.89      0.89      0.89        56\n",
      "weighted avg       0.89      0.89      0.89        56\n",
      "\n"
     ]
    }
   ],
   "source": [
    "# EXCELLENT RESULTS\n",
    "print(classification_report(y_test,y_pred))"
   ]
  }
 ],
 "metadata": {
  "accelerator": "GPU",
  "colab": {
   "provenance": []
  },
  "gpuClass": "standard",
  "kernelspec": {
   "display_name": "Python 3 (ipykernel)",
   "language": "python",
   "name": "python3"
  },
  "language_info": {
   "codemirror_mode": {
    "name": "ipython",
    "version": 3
   },
   "file_extension": ".py",
   "mimetype": "text/x-python",
   "name": "python",
   "nbconvert_exporter": "python",
   "pygments_lexer": "ipython3",
   "version": "3.10.9"
  }
 },
 "nbformat": 4,
 "nbformat_minor": 1
}
